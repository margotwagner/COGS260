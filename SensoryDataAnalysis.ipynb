{
 "cells": [
  {
   "cell_type": "code",
   "execution_count": 2,
   "metadata": {
    "ExecuteTime": {
     "end_time": "2020-05-18T22:44:09.212289Z",
     "start_time": "2020-05-18T22:44:08.992779Z"
    }
   },
   "outputs": [],
   "source": [
    "import matplotlib.pyplot as plt\n",
    "import numpy as np\n",
    "import pandas as pd\n",
    "\n",
    "%matplotlib inline"
   ]
  },
  {
   "cell_type": "markdown",
   "metadata": {},
   "source": [
    "# Load dataset"
   ]
  },
  {
   "cell_type": "code",
   "execution_count": 1,
   "metadata": {
    "ExecuteTime": {
     "end_time": "2020-05-20T01:25:33.587077Z",
     "start_time": "2020-05-20T01:25:33.584087Z"
    }
   },
   "outputs": [],
   "source": [
    "def load_data(filename):\n",
    "    '''\n",
    "    Load in data and return values\n",
    "    \n",
    "    param:   filename (str) - filename/path to data\n",
    "    return:  data - data values\n",
    "    '''\n",
    "    # double check it's samples x features\n",
    "    data = pd.read_csv(filename)\n",
    "    return data.values"
   ]
  },
  {
   "cell_type": "code",
   "execution_count": 2,
   "metadata": {
    "ExecuteTime": {
     "end_time": "2020-05-20T01:27:40.424920Z",
     "start_time": "2020-05-20T01:27:40.421587Z"
    }
   },
   "outputs": [],
   "source": [
    "def norm_data(data):\n",
    "    '''\n",
    "    Normalize data to z-values (0 mean and 1 std dev)\n",
    "    \n",
    "    param:   data - data values (n_samples, n_features)\n",
    "    return:  data - normalized data\n",
    "    '''\n",
    "    means = data.mean(axis=0)    # mean for each feature\n",
    "    stdevs = data.std(axis=0)\n",
    "    data = (data - means) / stdevs\n",
    "    return data"
   ]
  },
  {
   "cell_type": "markdown",
   "metadata": {},
   "source": [
    "# Covariance matrix?"
   ]
  },
  {
   "cell_type": "markdown",
   "metadata": {},
   "source": [
    "# PCA "
   ]
  },
  {
   "cell_type": "code",
   "execution_count": 4,
   "metadata": {
    "ExecuteTime": {
     "end_time": "2020-05-20T01:36:18.763139Z",
     "start_time": "2020-05-20T01:36:18.759912Z"
    }
   },
   "outputs": [],
   "source": [
    "from sklearn.decomposition import PCA\n",
    "def pca(data):\n",
    "    '''\n",
    "    Does PCA on normalized data set. Can optionally set fewer components\n",
    "    \n",
    "    param: data - normalized data (n_samples, n_features)\n",
    "    return: \n",
    "        data_pc: data transformed onto princinpal components\n",
    "        components:  principal axes in feature space, array, shape (n_components, n_features)\n",
    "        weights: percentage of variance explained by each of the selected components. array, shape (n_components,)\n",
    "    '''\n",
    "    pca = PCA()\n",
    "    data_pc = pca.fit(data)\n",
    "    components = pca.components_\n",
    "    weights = pca.explained_variance_ratio_\n",
    "    \n",
    "    return data_pc, components, weights"
   ]
  },
  {
   "cell_type": "code",
   "execution_count": 5,
   "metadata": {
    "ExecuteTime": {
     "end_time": "2020-05-20T02:09:37.149011Z",
     "start_time": "2020-05-20T02:09:37.143953Z"
    }
   },
   "outputs": [],
   "source": [
    "def cum_var_plot(weights, desired_var):\n",
    "    '''\n",
    "    Cumulative variance plot (number of components vs cumulative variance captured) with calculated number \n",
    "    of PCs required to get to a certain desired variance explained\n",
    "    \n",
    "    params:\n",
    "        weights: percentage of variance explained by each of the selected components. array, shape (n_components,)\n",
    "        desired_var:  percent variance to find number of PCs for\n",
    "    return\n",
    "        pcs_req:   pcs required to captured at least desired variance\n",
    "        captured_var   exact variance captured by pcs_req\n",
    "    \n",
    "    '''\n",
    "    INDEX_SHIFT = 1\n",
    "    cum_var = np.cumsum(weights)\n",
    "    pcs_req = ceil(np.min(np.where(cum_var > desired_var)))\n",
    "    captured_var = cumulative_var[pcs_req-INDEX_SHIFT]\n",
    "    plt.plot(range(INDEX_SHIFT,len(cum_var)+INDEX_SHIFT), cum_var)\n",
    "    plt.axvline(x=pcs_req, ymin=0, ymax=1, color='k', linestyle='--')\n",
    "    plt.xlabel('Number of components')\n",
    "    plt.ylabel('Cumulative variance captured')\n",
    "    plt.title('Cumulative Variance Captured by Principal Components')\n",
    "    \n",
    "    return pcs_req, captured_var"
   ]
  },
  {
   "cell_type": "code",
   "execution_count": null,
   "metadata": {},
   "outputs": [],
   "source": []
  }
 ],
 "metadata": {
  "kernelspec": {
   "display_name": "Python 3",
   "language": "python",
   "name": "python3"
  },
  "language_info": {
   "codemirror_mode": {
    "name": "ipython",
    "version": 3
   },
   "file_extension": ".py",
   "mimetype": "text/x-python",
   "name": "python",
   "nbconvert_exporter": "python",
   "pygments_lexer": "ipython3",
   "version": "3.7.4"
  },
  "varInspector": {
   "cols": {
    "lenName": 16,
    "lenType": 16,
    "lenVar": 40
   },
   "kernels_config": {
    "python": {
     "delete_cmd_postfix": "",
     "delete_cmd_prefix": "del ",
     "library": "var_list.py",
     "varRefreshCmd": "print(var_dic_list())"
    },
    "r": {
     "delete_cmd_postfix": ") ",
     "delete_cmd_prefix": "rm(",
     "library": "var_list.r",
     "varRefreshCmd": "cat(var_dic_list()) "
    }
   },
   "types_to_exclude": [
    "module",
    "function",
    "builtin_function_or_method",
    "instance",
    "_Feature"
   ],
   "window_display": false
  }
 },
 "nbformat": 4,
 "nbformat_minor": 2
}
